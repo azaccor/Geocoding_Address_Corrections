{
 "cells": [
  {
   "cell_type": "markdown",
   "metadata": {},
   "source": [
    "## How Far Away are these Address Corrections?\n",
    "In this short program, we make a call to Google Maps's API using a key from my GCP account. Next, we index the resulting JSON strings to extract the distance we're interested in, define a small function to convert this to a float, and apply it to the existing df. Finally, we make a couple basic visualizations to understand how big of an impact these address corrections have in terms of distance, both based on street address corrections and postal code corrections.  "
   ]
  },
  {
   "cell_type": "code",
   "execution_count": 2,
   "metadata": {
    "collapsed": true
   },
   "outputs": [],
   "source": [
    "import numpy as np\n",
    "import pandas as pd\n",
    "import seaborn as sns\n",
    "import matplotlib.pyplot as plt\n",
    "%matplotlib inline\n",
    "import requests\n",
    "import json\n",
    "import googlemaps ## You may need to pip install this again!"
   ]
  },
  {
   "cell_type": "code",
   "execution_count": 54,
   "metadata": {
    "collapsed": true
   },
   "outputs": [],
   "source": [
    "df = pd.read_excel(\"Canadian Address Corrections.xlsx\")\n",
    "df.dropna(subset=['NewAddress1'], inplace=True)\n",
    "## Just take non-matching rows\n",
    "df = df.loc[df['PostalMatch']==0]\n",
    "##sns.heatmap(df.isnull(), yticklabels=False, cbar=False, cmap='viridis')"
   ]
  },
  {
   "cell_type": "code",
   "execution_count": 55,
   "metadata": {
    "collapsed": true
   },
   "outputs": [],
   "source": [
    "newAddress = (df['NewAddress1'] + ', ' + df['NewCity'] + ', ' + df['NewProv'] + ', Canada')\n",
    "oldAddress = (df['OldAddress1'] + ', ' + df['OldCity'] + ', ' + df['OldProv'] + ', Canada')\n",
    "newPostals = (df['NewPostal'] + ', Canada')\n",
    "oldPostals = (df['OldPostal'] + ', Canada')"
   ]
  },
  {
   "cell_type": "code",
   "execution_count": 56,
   "metadata": {
    "collapsed": true
   },
   "outputs": [],
   "source": [
    "## YOU WILL NEED TO GET A GCP ACCOUNT FOR THIS\n",
    "gmaps = googlemaps.Client(key='You will need to acquire your own, srry')"
   ]
  },
  {
   "cell_type": "code",
   "execution_count": 57,
   "metadata": {},
   "outputs": [
    {
     "data": {
      "text/plain": [
       "'1 m'"
      ]
     },
     "execution_count": 57,
     "metadata": {},
     "output_type": "execute_result"
    }
   ],
   "source": [
    "##Based on Address\n",
    "dist = gmaps.distance_matrix(newAddress[0], oldAddress[0])\n",
    "dist['rows'][0]['elements'][0]['distance']['text']"
   ]
  },
  {
   "cell_type": "code",
   "execution_count": 58,
   "metadata": {},
   "outputs": [
    {
     "data": {
      "text/plain": [
       "'1.1 km'"
      ]
     },
     "execution_count": 58,
     "metadata": {},
     "output_type": "execute_result"
    }
   ],
   "source": [
    "##Based on Postal Code\n",
    "dist2 = gmaps.distance_matrix(newPostals[0], oldPostals[0])\n",
    "dist2['rows'][0]['elements'][0]['distance']['text']"
   ]
  },
  {
   "cell_type": "code",
   "execution_count": 59,
   "metadata": {
    "collapsed": true
   },
   "outputs": [],
   "source": [
    "## Based on Address\n",
    "distances = []\n",
    "for i in range(0,len(newAddress)):\n",
    "    result_str = gmaps.distance_matrix(newAddress[i], oldAddress[i])\n",
    "    new_dist = result_str['rows'][0]['elements'][0]['distance']['text']\n",
    "    distances.append(new_dist)"
   ]
  },
  {
   "cell_type": "code",
   "execution_count": 60,
   "metadata": {
    "collapsed": true
   },
   "outputs": [],
   "source": [
    "## Based on Postal Codes\n",
    "distances2 = []\n",
    "for i in range(0,len(newPostals)):\n",
    "    try:\n",
    "        result_str = gmaps.distance_matrix(newPostals[i], oldPostals[i])\n",
    "        new_dist = result_str['rows'][0]['elements'][0]['distance']['text']\n",
    "        distances2.append(new_dist)\n",
    "    except:\n",
    "        distances2.append(\"Error\")"
   ]
  },
  {
   "cell_type": "code",
   "execution_count": null,
   "metadata": {
    "collapsed": true
   },
   "outputs": [],
   "source": [
    "dist2 = gmaps.distance_matrix(newPostals[7], oldPostals[7])\n",
    "dist2['rows'][0]['elements'][0]['distance']['text']\n",
    "\n",
    "##V8E 0C6 and T2T 6T4 do not appear to be real. In both cases, these are the \"suggested\" Postal Codes"
   ]
  },
  {
   "cell_type": "code",
   "execution_count": 61,
   "metadata": {
    "collapsed": true
   },
   "outputs": [],
   "source": [
    "df2 = pd.DataFrame(list(zip(distances, distances2)), columns=['AddDists', 'PostDists'])"
   ]
  },
  {
   "cell_type": "code",
   "execution_count": 62,
   "metadata": {},
   "outputs": [
    {
     "data": {
      "text/plain": [
       "'No Output'"
      ]
     },
     "execution_count": 62,
     "metadata": {},
     "output_type": "execute_result"
    }
   ],
   "source": [
    "df = pd.concat([df, df2], axis=1)\n",
    "df.head()"
   ]
  },
  {
   "cell_type": "code",
   "execution_count": 70,
   "metadata": {
    "collapsed": true
   },
   "outputs": [],
   "source": [
    "## Want to convert strings to numbers so we can plot them\n",
    "def str_to_float(val):\n",
    "    if 'k' in val:\n",
    "        val = float(val.split(' ')[0])*1000\n",
    "    elif ' m' in val:\n",
    "        val = float(val.split(' ')[0])\n",
    "    else:\n",
    "        val = 0\n",
    "    return val"
   ]
  },
  {
   "cell_type": "code",
   "execution_count": null,
   "metadata": {
    "collapsed": true
   },
   "outputs": [],
   "source": [
    "# Apply our new function\n",
    "df['PostDists'] = df['PostDists'].apply(str_to_float)\n",
    "df['AddDists'] = df['AddDists'].apply(str_to_float)"
   ]
  },
  {
   "cell_type": "code",
   "execution_count": 81,
   "metadata": {},
   "outputs": [
    {
     "data": {
      "text/plain": [
       "'No Output'"
      ]
     },
     "execution_count": 81,
     "metadata": {},
     "output_type": "execute_result"
    }
   ],
   "source": [
    "df.head()"
   ]
  },
  {
   "cell_type": "code",
   "execution_count": 95,
   "metadata": {},
   "outputs": [
    {
     "name": "stderr",
     "output_type": "stream",
     "text": [
      "/usr/local/anaconda/lib/python3.5/site-packages/matplotlib/font_manager.py:1297: UserWarning: findfont: Font family ['sans-serif'] not found. Falling back to DejaVu Sans\n",
      "  (prop.get_family(), self.defaultFamily[fontext]))\n"
     ]
    },
    {
     "data": {
      "image/png": "iVBORw0KGgoAAAANSUhEUgAAAl4AAAE9CAYAAADaqWzvAAAABHNCSVQICAgIfAhkiAAAAAlwSFlz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\n",
      "text/plain": [
       "<matplotlib.figure.Figure at 0x7fc995a36da0>"
      ]
     },
     "metadata": {},
     "output_type": "display_data"
    }
   ],
   "source": [
    "## Basic histogram for address based changes\n",
    "plt.figure(figsize=(10,5))\n",
    "plt.xlabel('Distance in Meters')\n",
    "plt.ylabel('Frequency of Discrepancy')\n",
    "plt.hist(df['AddDists'], bins = 10)\n",
    "plt.show()"
   ]
  },
  {
   "cell_type": "code",
   "execution_count": 94,
   "metadata": {},
   "outputs": [
    {
     "name": "stderr",
     "output_type": "stream",
     "text": [
      "/usr/local/anaconda/lib/python3.5/site-packages/matplotlib/font_manager.py:1297: UserWarning: findfont: Font family ['sans-serif'] not found. Falling back to DejaVu Sans\n",
      "  (prop.get_family(), self.defaultFamily[fontext]))\n"
     ]
    },
    {
     "data": {
      "image/png": "iVBORw0KGgoAAAANSUhEUgAAAl4AAAE9CAYAAADaqWzvAAAABHNCSVQICAgIfAhkiAAAAAlwSFlz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\nkSEAAAAASUVORK5CYII=\n",
      "text/plain": [
       "<matplotlib.figure.Figure at 0x7fc995763128>"
      ]
     },
     "metadata": {},
     "output_type": "display_data"
    }
   ],
   "source": [
    "## Basic histogram for postal code based changes\n",
    "plt.figure(figsize=(10,5))\n",
    "plt.xlabel('Distance in Meters')\n",
    "plt.ylabel('Frequency of Discrepancy')\n",
    "plt.hist(df['PostDists'], bins = 10)\n",
    "plt.show()"
   ]
  },
  {
   "cell_type": "code",
   "execution_count": 96,
   "metadata": {
    "collapsed": true
   },
   "outputs": [],
   "source": [
    "##Run if you want an export\n",
    "df.to_excel(\"Canadian Address Updates with Distances.xlsx\")"
   ]
  },
  {
   "cell_type": "markdown",
   "metadata": {},
   "source": [
    "### In conclusion:\n",
    "We can see that there is a big difference in distance between the address as entered by a member and the post office corrected version when we base the changes on postal code as opposed to just the written street address. In some postal code based cases, this difference can be quite large - over 200km even - whereas most are relatively minor. Using street address suggests that the changes are much more minor, and not likely to result in pricing differences. However, being that we use postal code as the input, this may be something worth exploring down the road.\n",
    "\n",
   ]
  }
 ],
 "metadata": {
  "kernelspec": {
   "display_name": "Python [default]",
   "language": "python",
   "name": "python3"
  },
  "language_info": {
   "codemirror_mode": {
    "name": "ipython",
    "version": 3
   },
   "file_extension": ".py",
   "mimetype": "text/x-python",
   "name": "python",
   "nbconvert_exporter": "python",
   "pygments_lexer": "ipython3",
   "version": "3.5.3"
  }
 },
 "nbformat": 4,
 "nbformat_minor": 2
}
